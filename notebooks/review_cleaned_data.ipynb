{
 "cells": [
  {
   "cell_type": "code",
   "execution_count": null,
   "metadata": {
    "vscode": {
     "languageId": "plaintext"
    }
   },
   "outputs": [],
   "source": [
    "# Importar librerías necesarias\n",
    "import pandas as pd\n",
    "\n",
    "# Cargar el dataset limpio\n",
    "file_path = '../data/cleaned_data.csv'\n",
    "data = pd.read_csv(file_path)\n",
    "\n",
    "# Mostrar las primeras filas\n",
    "print(\"Primeras filas del dataset limpio:\")\n",
    "display(data.head())\n",
    "\n",
    "# Información general del dataset\n",
    "print(\"\\nInformación general del dataset:\")\n",
    "print(data.info())\n",
    "\n",
    "# Verificar el tipo de datos en cada columna\n",
    "print(\"\\nTipos de datos por columna:\")\n",
    "print(data.dtypes)\n",
    "\n",
    "# Comprobar si hay fechas en formato incorrecto\n",
    "if 'Fecha' in data.columns:\n",
    "    try:\n",
    "        data['Fecha'] = pd.to_datetime(data['Fecha'], errors='coerce')\n",
    "        print(\"\\n✅ Columna 'Fecha' convertida correctamente a formato datetime.\")\n",
    "    except Exception as e:\n",
    "        print(\"\\n❌ Error al convertir la columna 'Fecha':\", e)\n",
    "\n",
    "# Verificar que las columnas categóricas estén en formato 'object'\n",
    "categorical_cols = data.select_dtypes(include=['object']).columns\n",
    "print(f\"\\nColumnas categóricas detectadas: {list(categorical_cols)}\")\n",
    "\n",
    "# Verificar que las columnas numéricas estén en formato correcto\n",
    "numeric_cols = data.select_dtypes(include=['float64', 'int64']).columns\n",
    "print(f\"\\nColumnas numéricas detectadas: {list(numeric_cols)}\")\n",
    "\n",
    "# Mostrar si hay valores extraños en columnas clave\n",
    "print(\"\\nResumen estadístico de las columnas numéricas:\")\n",
    "display(data.describe())\n",
    "\n",
    "print(\"\\n✅ Revisión del dataset completada.\")\n"
   ]
  }
 ],
 "metadata": {
  "language_info": {
   "name": "python"
  }
 },
 "nbformat": 4,
 "nbformat_minor": 2
}
