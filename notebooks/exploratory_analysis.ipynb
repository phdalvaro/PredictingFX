{
 "cells": [
  {
   "cell_type": "code",
   "execution_count": null,
   "metadata": {
    "vscode": {
     "languageId": "plaintext"
    }
   },
   "outputs": [],
   "source": [
    "# Importar librerías necesarias\n",
    "import pandas as pd\n",
    "import numpy as np\n",
    "\n",
    "# Cargar el dataset\n",
    "file_path = '../data/Fluctua.xlsx'\n",
    "\n",
    "# Leer la hoja \"OPES\"\n",
    "data = pd.read_excel(file_path, sheet_name='OPES')\n",
    "\n",
    "# Mostrar las primeras filas para inspeccionar el contenido\n",
    "print(\"Primeras filas del dataset:\")\n",
    "display(data.head())\n",
    "\n",
    "# Información general del dataset\n",
    "print(\"\\nInformación general del dataset:\")\n",
    "print(data.info())\n",
    "\n",
    "# Resumen estadístico de las columnas numéricas\n",
    "print(\"\\nResumen estadístico:\")\n",
    "display(data.describe())\n",
    "\n",
    "# Detección de valores nulos\n",
    "print(\"\\nValores nulos por columna:\")\n",
    "print(data.isnull().sum())\n",
    "\n",
    "# Visualización de valores faltantes\n",
    "import seaborn as sns\n",
    "import matplotlib.pyplot as plt\n",
    "\n",
    "plt.figure(figsize=(10, 6))\n",
    "sns.heatmap(data.isnull(), cbar=False, cmap='viridis')\n",
    "plt.title('Mapa de calor de valores faltantes')\n",
    "plt.show()\n",
    "\n",
    "# Inspección de duplicados\n",
    "print(\"\\nCantidad de filas duplicadas:\", data.duplicated().sum())\n"
   ]
  }
 ],
 "metadata": {
  "kernelspec": {
   "display_name": "Python 3 (ipykernel)",
   "language": "python",
   "name": "python3"
  },
  "language_info": {
   "codemirror_mode": {
    "name": "ipython",
    "version": 3
   },
   "file_extension": ".py",
   "mimetype": "text/x-python",
   "name": "python",
   "nbconvert_exporter": "python",
   "pygments_lexer": "ipython3",
   "version": "3.13.2"
  }
 },
 "nbformat": 4,
 "nbformat_minor": 4
}
